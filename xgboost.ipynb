{
 "cells": [
  {
   "cell_type": "code",
   "execution_count": 1,
   "metadata": {},
   "outputs": [],
   "source": [
    "import pandas as pd\n",
    "import numpy as np\n",
    "import matplotlib.pyplot as plt\n",
    "import seaborn as sns\n",
    "plt.style.use('bmh')"
   ]
  },
  {
   "cell_type": "code",
   "execution_count": 2,
   "metadata": {},
   "outputs": [
    {
     "data": {
      "text/html": [
       "<div>\n",
       "<style scoped>\n",
       "    .dataframe tbody tr th:only-of-type {\n",
       "        vertical-align: middle;\n",
       "    }\n",
       "\n",
       "    .dataframe tbody tr th {\n",
       "        vertical-align: top;\n",
       "    }\n",
       "\n",
       "    .dataframe thead th {\n",
       "        text-align: right;\n",
       "    }\n",
       "</style>\n",
       "<table border=\"1\" class=\"dataframe\">\n",
       "  <thead>\n",
       "    <tr style=\"text-align: right;\">\n",
       "      <th></th>\n",
       "      <th>bhp</th>\n",
       "      <th>bht</th>\n",
       "      <th>dp_tubing</th>\n",
       "      <th>thp</th>\n",
       "      <th>tht</th>\n",
       "      <th>choke_size_percentage</th>\n",
       "      <th>QL</th>\n",
       "      <th>QG</th>\n",
       "    </tr>\n",
       "    <tr>\n",
       "      <th>date</th>\n",
       "      <th></th>\n",
       "      <th></th>\n",
       "      <th></th>\n",
       "      <th></th>\n",
       "      <th></th>\n",
       "      <th></th>\n",
       "      <th></th>\n",
       "      <th></th>\n",
       "    </tr>\n",
       "  </thead>\n",
       "  <tbody>\n",
       "    <tr>\n",
       "      <th>2008-02-14</th>\n",
       "      <td>295.586061</td>\n",
       "      <td>105.775486</td>\n",
       "      <td>181.867887</td>\n",
       "      <td>113.718175</td>\n",
       "      <td>72.737631</td>\n",
       "      <td>80.120465</td>\n",
       "      <td>3333.600000</td>\n",
       "      <td>543951.872000</td>\n",
       "    </tr>\n",
       "    <tr>\n",
       "      <th>2008-02-15</th>\n",
       "      <td>297.662702</td>\n",
       "      <td>105.751875</td>\n",
       "      <td>180.832060</td>\n",
       "      <td>116.830642</td>\n",
       "      <td>69.995943</td>\n",
       "      <td>84.250990</td>\n",
       "      <td>2705.053996</td>\n",
       "      <td>397504.971058</td>\n",
       "    </tr>\n",
       "    <tr>\n",
       "      <th>2008-02-16</th>\n",
       "      <td>295.935519</td>\n",
       "      <td>105.811114</td>\n",
       "      <td>180.501045</td>\n",
       "      <td>115.434474</td>\n",
       "      <td>71.518347</td>\n",
       "      <td>82.359026</td>\n",
       "      <td>3056.690000</td>\n",
       "      <td>418474.000000</td>\n",
       "    </tr>\n",
       "    <tr>\n",
       "      <th>2008-02-17</th>\n",
       "      <td>295.551657</td>\n",
       "      <td>105.831299</td>\n",
       "      <td>180.345781</td>\n",
       "      <td>115.205876</td>\n",
       "      <td>73.641800</td>\n",
       "      <td>82.168501</td>\n",
       "      <td>2984.480000</td>\n",
       "      <td>422763.000000</td>\n",
       "    </tr>\n",
       "    <tr>\n",
       "      <th>2008-02-18</th>\n",
       "      <td>294.211063</td>\n",
       "      <td>105.866467</td>\n",
       "      <td>180.929248</td>\n",
       "      <td>113.281815</td>\n",
       "      <td>74.160157</td>\n",
       "      <td>80.263045</td>\n",
       "      <td>3116.869565</td>\n",
       "      <td>431823.652174</td>\n",
       "    </tr>\n",
       "  </tbody>\n",
       "</table>\n",
       "</div>"
      ],
      "text/plain": [
       "                   bhp         bht   dp_tubing         thp        tht  \\\n",
       "date                                                                    \n",
       "2008-02-14  295.586061  105.775486  181.867887  113.718175  72.737631   \n",
       "2008-02-15  297.662702  105.751875  180.832060  116.830642  69.995943   \n",
       "2008-02-16  295.935519  105.811114  180.501045  115.434474  71.518347   \n",
       "2008-02-17  295.551657  105.831299  180.345781  115.205876  73.641800   \n",
       "2008-02-18  294.211063  105.866467  180.929248  113.281815  74.160157   \n",
       "\n",
       "            choke_size_percentage           QL             QG  \n",
       "date                                                           \n",
       "2008-02-14              80.120465  3333.600000  543951.872000  \n",
       "2008-02-15              84.250990  2705.053996  397504.971058  \n",
       "2008-02-16              82.359026  3056.690000  418474.000000  \n",
       "2008-02-17              82.168501  2984.480000  422763.000000  \n",
       "2008-02-18              80.263045  3116.869565  431823.652174  "
      ]
     },
     "execution_count": 2,
     "metadata": {},
     "output_type": "execute_result"
    }
   ],
   "source": [
    "df = pd.read_csv('ready_data.csv', index_col='date', parse_dates=True)\n",
    "df.head()"
   ]
  },
  {
   "cell_type": "code",
   "execution_count": 3,
   "metadata": {},
   "outputs": [],
   "source": [
    "def iqr_outliers(data, p):\n",
    "    q1, q3 = np.percentile(data, [25, 75])\n",
    "    \n",
    "    IQR = q3 - q1\n",
    "    \n",
    "    lower_fence = q1 - (p * IQR)\n",
    "    upper_fence = q3 + (p * IQR)\n",
    " \n",
    "    for i in range(len(data.values)):\n",
    "        if data[i] > upper_fence or data[i] < lower_fence:\n",
    "            data[i] = np.nan\n",
    "\n",
    "    return data"
   ]
  },
  {
   "cell_type": "code",
   "execution_count": 4,
   "metadata": {},
   "outputs": [],
   "source": [
    "df['bht'] = iqr_outliers(df['bht'], 1.5)\n",
    "df['bht'] = df['bht'].interpolate(method='linear')"
   ]
  },
  {
   "cell_type": "code",
   "execution_count": 5,
   "metadata": {},
   "outputs": [
    {
     "name": "stdout",
     "output_type": "stream",
     "text": [
      "<class 'pandas.core.frame.DataFrame'>\n",
      "DatetimeIndex: 3052 entries, 2008-02-16 to 2016-09-17\n",
      "Data columns (total 24 columns):\n",
      " #   Column                       Non-Null Count  Dtype  \n",
      "---  ------                       --------------  -----  \n",
      " 0   bhp                          3052 non-null   float64\n",
      " 1   bht                          3052 non-null   float64\n",
      " 2   dp_tubing                    3052 non-null   float64\n",
      " 3   thp                          3052 non-null   float64\n",
      " 4   tht                          3052 non-null   float64\n",
      " 5   choke_size_percentage        3052 non-null   float64\n",
      " 6   QL                           3052 non-null   float64\n",
      " 7   QG                           3052 non-null   float64\n",
      " 8   1last_bhp                    3052 non-null   float64\n",
      " 9   1last_bht                    3052 non-null   float64\n",
      " 10  1last_dp_tubing              3052 non-null   float64\n",
      " 11  1last_thp                    3052 non-null   float64\n",
      " 12  1last_tht                    3052 non-null   float64\n",
      " 13  1last_choke_size_percentage  3052 non-null   float64\n",
      " 14  1last_QL                     3052 non-null   float64\n",
      " 15  1last_QG                     3052 non-null   float64\n",
      " 16  2last_bhp                    3052 non-null   float64\n",
      " 17  2last_bht                    3052 non-null   float64\n",
      " 18  2last_dp_tubing              3052 non-null   float64\n",
      " 19  2last_thp                    3052 non-null   float64\n",
      " 20  2last_tht                    3052 non-null   float64\n",
      " 21  2last_choke_size_percentage  3052 non-null   float64\n",
      " 22  2last_QL                     3052 non-null   float64\n",
      " 23  2last_QG                     3052 non-null   float64\n",
      "dtypes: float64(24)\n",
      "memory usage: 596.1 KB\n"
     ]
    }
   ],
   "source": [
    "last_lday , last_2day = df.shift(+1), df.shift(+2)\n",
    "\n",
    "last_lday.rename(columns={\n",
    "        'bhp' : '1last_bhp',\n",
    "        'bht' : '1last_bht',\n",
    "        'dp_tubing' : '1last_dp_tubing',\n",
    "        'AVG_CHOKE_SIZE_P' : '1last_AVG_CHOKE_SIZE_P',\n",
    "        'thp' : '1last_thp',\n",
    "        'tht' : \"1last_tht\",\n",
    "        \"choke_size_percentage\" : \"1last_choke_size_percentage\",\n",
    "        \"QL\" : \"1last_QL\",\n",
    "        \"QG\" : \"1last_QG\"\n",
    "}, inplace=True)\n",
    "\n",
    "last_2day.rename(columns={\n",
    "        'bhp' : '2last_bhp',\n",
    "        'bht' : '2last_bht',\n",
    "        'dp_tubing' : '2last_dp_tubing',\n",
    "        'AVG_CHOKE_SIZE_P' : '2last_AVG_CHOKE_SIZE_P',\n",
    "        'thp' : '2last_thp',\n",
    "        'tht' : \"2last_tht\",\n",
    "        \"choke_size_percentage\" : \"2last_choke_size_percentage\",\n",
    "        \"QL\" : \"2last_QL\",\n",
    "        \"QG\" : \"2last_QG\"\n",
    "    }, inplace=True)\n",
    "\n",
    "well = pd.concat([df, last_lday, last_2day], axis=1)\n",
    "well.dropna(inplace=True)\n",
    "well.info()"
   ]
  },
  {
   "cell_type": "code",
   "execution_count": 6,
   "metadata": {},
   "outputs": [],
   "source": [
    "X = well.drop(['QL', 'QG'], axis=1)\n",
    "y = well['QL']"
   ]
  },
  {
   "cell_type": "code",
   "execution_count": 7,
   "metadata": {},
   "outputs": [],
   "source": [
    "from sklearn.model_selection import train_test_split\n",
    "X_train, X_test, y_train, y_test = train_test_split(X, y, test_size=0.1, random_state=42)"
   ]
  },
  {
   "cell_type": "code",
   "execution_count": 8,
   "metadata": {},
   "outputs": [],
   "source": [
    "from sklearn.preprocessing import StandardScaler\n",
    "ss = StandardScaler()\n",
    "X_train = ss.fit_transform(X_train)\n",
    "X_test = ss.transform(X_test)"
   ]
  },
  {
   "cell_type": "code",
   "execution_count": 9,
   "metadata": {},
   "outputs": [],
   "source": [
    "from sklearn.model_selection import GridSearchCV\n",
    "import xgboost as xgb\n",
    "xg_reg = xgb.XGBRegressor(verbosity=3)\n",
    "\n",
    "param_grid = { \n",
    "    'colsample_bytre': [0.000001, 0.000005, 0.00001,0.00005,0.0001],\n",
    "    'learning_rate': [0.2, 0.3, 0.35,0.4,0.45],\n",
    "    'max_depth' : [1],\n",
    "    'n_estimators' :[10000, 1500, 1800,2000]\n",
    "}\n",
    "\n",
    "CV_rfc = GridSearchCV(estimator=xg_reg, param_grid=param_grid, cv= 5,n_jobs=-1)\n",
    "CV_rfc.fit(X_train, y_train)"
   ]
  },
  {
   "cell_type": "code",
   "execution_count": 22,
   "metadata": {},
   "outputs": [
    {
     "ename": "AttributeError",
     "evalue": "'GridSearchCV' object has no attribute 'best_params_'",
     "output_type": "error",
     "traceback": [
      "\u001b[1;31m---------------------------------------------------------------------------\u001b[0m",
      "\u001b[1;31mAttributeError\u001b[0m                            Traceback (most recent call last)",
      "\u001b[1;32md:\\Volve production data.xlsx\\New folder\\last\\xgboost.ipynb Cell 8\u001b[0m in \u001b[0;36m<cell line: 1>\u001b[1;34m()\u001b[0m\n\u001b[1;32m----> <a href='vscode-notebook-cell:/d%3A/Volve%20production%20data.xlsx/New%20folder/last/xgboost.ipynb#X16sZmlsZQ%3D%3D?line=0'>1</a>\u001b[0m CV_rfc\u001b[39m.\u001b[39;49mbest_params_\n",
      "\u001b[1;31mAttributeError\u001b[0m: 'GridSearchCV' object has no attribute 'best_params_'"
     ]
    }
   ],
   "source": [
    "CV_rfc.best_params_"
   ]
  },
  {
   "cell_type": "code",
   "execution_count": 15,
   "metadata": {},
   "outputs": [
    {
     "data": {
      "text/plain": [
       "XGBRegressor(base_score=None, booster=None, callbacks=None,\n",
       "             colsample_bylevel=None, colsample_bynode=None,\n",
       "             colsample_bytree=None, early_stopping_rounds=None,\n",
       "             enable_categorical=False, eval_metric=None, feature_types=None,\n",
       "             gamma=None, gpu_id=None, grow_policy=None, importance_type=None,\n",
       "             interaction_constraints=None, learning_rate=None, max_bin=None,\n",
       "             max_cat_threshold=None, max_cat_to_onehot=None,\n",
       "             max_delta_step=None, max_depth=None, max_leaves=None,\n",
       "             min_child_weight=None, missing=nan, monotone_constraints=None,\n",
       "             n_estimators=100, n_jobs=None, num_parallel_tree=None,\n",
       "             predictor=None, random_state=None, ...)"
      ]
     },
     "execution_count": 15,
     "metadata": {},
     "output_type": "execute_result"
    }
   ],
   "source": [
    "xgb_reg = xgb.XGBRegressor()\n",
    "xgb_reg.fit(X_train, y_train)"
   ]
  },
  {
   "cell_type": "code",
   "execution_count": 16,
   "metadata": {},
   "outputs": [],
   "source": [
    "y_p = xgb_reg.predict(X_test)"
   ]
  },
  {
   "cell_type": "code",
   "execution_count": 17,
   "metadata": {},
   "outputs": [
    {
     "name": "stdout",
     "output_type": "stream",
     "text": [
      "0.9395619374856836\n",
      "197.46989440290207\n"
     ]
    }
   ],
   "source": [
    "from sklearn.metrics import r2_score, mean_absolute_error\n",
    "print(r2_score(y_test, y_p))\n",
    "print(mean_absolute_error(y_test, y_p))"
   ]
  },
  {
   "cell_type": "code",
   "execution_count": 19,
   "metadata": {},
   "outputs": [
    {
     "data": {
      "text/plain": [
       "<matplotlib.collections.PathCollection at 0x133628feef0>"
      ]
     },
     "execution_count": 19,
     "metadata": {},
     "output_type": "execute_result"
    },
    {
     "data": {
      "image/png": "[encoded data removed]",
      "text/plain": [
       "<Figure size 1080x576 with 1 Axes>"
      ]
     },
     "metadata": {
      "needs_background": "light"
     },
     "output_type": "display_data"
    }
   ],
   "source": [
    "plt.figure(figsize=(15, 8))\n",
    "plt.scatter(y_test, y_p)"
   ]
  },
  {
   "cell_type": "code",
   "execution_count": null,
   "metadata": {},
   "outputs": [],
   "source": [
    "blind_df = pd.DataFrame()\n",
    "blind_df['y_pred'] = y_pred\n",
    "blind_df['y_b'] = y_b.values"
   ]
  },
  {
   "cell_type": "code",
   "execution_count": null,
   "metadata": {},
   "outputs": [],
   "source": [
    "sns.set_theme(style=\"darkgrid\")\n",
    "\n",
    "g = sns.jointplot(x=\"y_b\", y=\"y_pred\", data=blind_df,\n",
    "                  kind=\"reg\", truncate=False,\n",
    "                 \n",
    "                  color=\"m\", height=7)"
   ]
  },
  {
   "cell_type": "code",
   "execution_count": null,
   "metadata": {},
   "outputs": [],
   "source": [
    "plt.figure(figsize=(15, 8))\n",
    "plt.bar(range(len(xg_reg.feature_importances_)), xg_reg.feature_importances_)\n",
    "plt.show()"
   ]
  },
  {
   "cell_type": "code",
   "execution_count": null,
   "metadata": {},
   "outputs": [],
   "source": [
    "print(xg_reg.feature_importances_)"
   ]
  }
 ],
 "metadata": {
  "kernelspec": {
   "display_name": "Python 3",
   "language": "python",
   "name": "python3"
  },
  "language_info": {
   "codemirror_mode": {
    "name": "ipython",
    "version": 3
   },
   "file_extension": ".py",
   "mimetype": "text/x-python",
   "name": "python",
   "nbconvert_exporter": "python",
   "pygments_lexer": "ipython3",
   "version": "3.10.2"
  },
  "orig_nbformat": 4
 },
 "nbformat": 4,
 "nbformat_minor": 2
}
